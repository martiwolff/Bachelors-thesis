{
 "cells": [
  {
   "cell_type": "markdown",
   "id": "opposite-vaccine",
   "metadata": {},
   "source": [
    "# Seasonal temperature developments in the baltic region:"
   ]
  },
  {
   "cell_type": "markdown",
   "id": "reliable-adoption",
   "metadata": {},
   "source": [
    "## First steps:"
   ]
  },
  {
   "cell_type": "markdown",
   "id": "subtle-sister",
   "metadata": {},
   "source": [
    "At first some python libraries are imported:"
   ]
  },
  {
   "cell_type": "code",
   "execution_count": null,
   "id": "global-greek",
   "metadata": {
    "jupyter": {
     "source_hidden": true
    }
   },
   "outputs": [],
   "source": [
    "import xarray as xr\n",
    "import numpy as np\n",
    "import matplotlib.pyplot as plt\n",
    "from shapely.geometry import Polygon, Point"
   ]
  },
  {
   "cell_type": "markdown",
   "id": "tested-clinic",
   "metadata": {},
   "source": [
    "The model data is imported as a dataset:"
   ]
  },
  {
   "cell_type": "code",
   "execution_count": null,
   "id": "apart-arctic",
   "metadata": {
    "jupyter": {
     "source_hidden": true
    }
   },
   "outputs": [],
   "source": [
    "temp = xr.open_dataset(\"/students_files/data/slo0043_echam6_code167_mm_1001_8850.ncslo0043_echam6_code167_mm_1001_8850.nc\")"
   ]
  },
  {
   "cell_type": "markdown",
   "id": "special-brown",
   "metadata": {},
   "source": [
    "The longitude and latitude coordinates are adjusted and the dataset is shown:"
   ]
  },
  {
   "cell_type": "code",
   "execution_count": null,
   "id": "extensive-algorithm",
   "metadata": {
    "jupyter": {
     "source_hidden": true
    }
   },
   "outputs": [],
   "source": [
    "# adjust values of lon and lat and show dataset\n",
    "\n",
    "def adjust_lon_lat(ds, lon_name, lat_name, reverse = False):\n",
    "    \"\"\"Adjusts longitude from 0 to 360 to -180 to 180 and reverses latitude.\"\"\"\n",
    "    if reverse == True:\n",
    "        ds = ds.reindex({lat_name:ds[lat_name][::-1]})\n",
    "    ds['_longitude_adjusted'] = xr.where(\n",
    "        ds[lon_name] > 180,\n",
    "        ds[lon_name] - 360,\n",
    "        ds[lon_name])\n",
    "    ds = (ds\n",
    "          .swap_dims({lon_name: '_longitude_adjusted'})\n",
    "          .sel(**{'_longitude_adjusted': sorted(ds._longitude_adjusted)})\n",
    "          .drop(lon_name))\n",
    "    ds = ds.rename({'_longitude_adjusted': lon_name})\n",
    "    return ds\n",
    "temp = adjust_lon_lat(temp, lon_name=\"lon\", lat_name=\"lat\", reverse=True)"
   ]
  },
  {
   "cell_type": "markdown",
   "id": "diverse-julian",
   "metadata": {},
   "source": [
    "The baltic region is selected:"
   ]
  },
  {
   "cell_type": "code",
   "execution_count": null,
   "id": "healthy-programming",
   "metadata": {
    "jupyter": {
     "source_hidden": true
    }
   },
   "outputs": [],
   "source": [
    "corner_points = [\n",
    "    (18.0, 49),\n",
    "    (23.0, 49),\n",
    "    (28.0, 55.0),\n",
    "    (32.0, 56.0),\n",
    "    (35.0, 62.0),\n",
    "    (30.0, 62.0),\n",
    "    (29.0, 67.0),\n",
    "    (19.0, 68.0),\n",
    "    (12.0, 61.0),\n",
    "    (12.0, 57.5),\n",
    "    (8.0, 56.5),\n",
    "    (10.0, 53.0),\n",
    "    (13.5, 52.5)\n",
    "]\n",
    "\n",
    "polygon = Polygon(corner_points)\n",
    "\n",
    "lat_mask = (temp['lat'] >= polygon.bounds[1]) & (temp['lat'] <= polygon.bounds[3])\n",
    "lon_mask = (temp['lon'] >= polygon.bounds[0]) & (temp['lon'] <= polygon.bounds[2])\n",
    "mask = (lat_mask & lon_mask)\n",
    "\n",
    "lat_values = temp['lat'].values\n",
    "lon_values = temp['lon'].values\n",
    "for i in range(len(lat_values)):\n",
    "    for j in range(len(lon_values)):\n",
    "        if not polygon.contains(Point(lon_values[j], lat_values[i])):\n",
    "            mask[i, j] = False\n",
    "\n",
    "temp_baltic = temp.where(mask)\n",
    "temp_baltic = temp_baltic.sel(lat=slice(49, 68), lon=slice(8, 35))\n",
    "print(temp_baltic)"
   ]
  },
  {
   "cell_type": "markdown",
   "id": "attached-badge",
   "metadata": {},
   "source": [
    "The baltic region outline is prepared:"
   ]
  },
  {
   "cell_type": "code",
   "execution_count": null,
   "id": "sublime-tribune",
   "metadata": {
    "jupyter": {
     "source_hidden": true
    }
   },
   "outputs": [],
   "source": [
    "import matplotlib.ticker as mticker\n",
    "import cartopy.crs as ccrs\n",
    "from cartopy.mpl.gridliner import LONGITUDE_FORMATTER, LATITUDE_FORMATTER\n",
    "\n",
    "def subplot_cartopy_nice_baltic(ax):    \n",
    "    \"\"\"\n",
    "    Adjust cartopy plots for the Baltic Sea\n",
    "    \"\"\"\n",
    "    ax.set_aspect(\"auto\")\n",
    "    ax.coastlines(\"10m\")\n",
    "    gl = ax.gridlines(crs=ccrs.PlateCarree(), draw_labels=True,\n",
    "                    linewidth=2, color='gray', alpha=0.0, linestyle='-')\n",
    "    gl.top_labels  = False\n",
    "    gl.left_labels  = True\n",
    "    gl.right_labels  = False\n",
    "    gl.xlines = True\n",
    "    gl.ylines = True\n",
    "    gl.xlocator = mticker.FixedLocator(list(np.arange(-90, 60, 10)))\n",
    "    gl.ylocator = mticker.FixedLocator(list(np.arange(-60, 80, 5)))\n",
    "\n",
    "    gl.xformatter = LONGITUDE_FORMATTER\n",
    "    gl.yformatter = LATITUDE_FORMATTER\n",
    "    \n",
    "    # Change tick label size\n",
    "    gl.xlabel_style = {'size': 18}\n",
    "    gl.ylabel_style = {'size': 18}\n",
    "\n",
    "    ax.spines['geo'].set_linewidth(5)\n",
    "    ax.spines['geo'].set_edgecolor('black')\n",
    "    ax.set_aspect('auto')"
   ]
  },
  {
   "cell_type": "markdown",
   "id": "tropical-cherry",
   "metadata": {},
   "source": [
    "## Now let's dig in:"
   ]
  },
  {
   "cell_type": "markdown",
   "id": "educational-programmer",
   "metadata": {},
   "source": [
    "Let's take a look at the temperature development from 6000BCE to 1850CE for all four seasons:"
   ]
  },
  {
   "cell_type": "code",
   "execution_count": null,
   "id": "entertaining-response",
   "metadata": {
    "jupyter": {
     "source_hidden": true
    }
   },
   "outputs": [],
   "source": [
    "rolling_data = temp_baltic.isel(time=slice(2, None))\n",
    "rolling_data = rolling_data['var167'].rolling(time=3, center=False, min_periods=3).mean()\n",
    "seasonal_temp_baltic = rolling_data[2::3]\n",
    "\n",
    "\n",
    "# Creating spring_temp_baltic DataArray, building mean over last and first 1000 years\n",
    "spring_temp_baltic = seasonal_temp_baltic[0::4]\n",
    "spring_temp_baltic.coords['time'] = range(-6000, -6000+len(spring_temp_baltic))\n",
    "spring_first = spring_temp_baltic.isel(time=slice(0, 1000)).mean(dim=['time']) \n",
    "spring_last = spring_temp_baltic.isel(time=slice(6851,7850)).mean(dim=['time'])\n",
    "spring_diff = spring_last - spring_first\n",
    "\n",
    "# Creating summer_temp_baltic DataArray, building mean over last and first 1000 years\n",
    "summer_temp_baltic = seasonal_temp_baltic[1::4]\n",
    "summer_temp_baltic.coords['time'] = range(-6000, -6000+len(summer_temp_baltic))\n",
    "summer_first = summer_temp_baltic.isel(time=slice(0, 1000)).mean(dim=['time'])\n",
    "summer_last = summer_temp_baltic.isel(time=slice(6851,7850)).mean(dim=['time'])\n",
    "summer_diff = summer_last - summer_first\n",
    "\n",
    "# Creating fall_temp_baltic DataArray, building mean over last and first 1000 years\n",
    "fall_temp_baltic = seasonal_temp_baltic[2::4]\n",
    "fall_temp_baltic.coords['time'] = range(-6000, -6000+len(fall_temp_baltic))\n",
    "fall_first = fall_temp_baltic.isel(time=slice(0, 1000)).mean(dim=['time'])\n",
    "fall_last = fall_temp_baltic.isel(time=slice(6851,7850)).mean(dim=['time'])\n",
    "fall_diff = fall_last - fall_first\n",
    "\n",
    "# Creating winter_temp_baltic DataArray, building mean over last and first 1000 years\n",
    "winter_temp_baltic = seasonal_temp_baltic[3::4]\n",
    "winter_temp_baltic.coords['time'] = range(-6000, -6000+len(winter_temp_baltic))\n",
    "winter_first = winter_temp_baltic.isel(time=slice(0, 1000)).mean(dim=['time'])\n",
    "winter_last = winter_temp_baltic.isel(time=slice(6851,7850)).mean(dim=['time'])\n",
    "winter_diff = winter_last - winter_first"
   ]
  },
  {
   "cell_type": "code",
   "execution_count": null,
   "id": "specific-midwest",
   "metadata": {
    "jupyter": {
     "source_hidden": true
    }
   },
   "outputs": [],
   "source": [
    "print(winter_diff)"
   ]
  },
  {
   "cell_type": "code",
   "execution_count": null,
   "id": "quiet-lounge",
   "metadata": {
    "jupyter": {
     "source_hidden": true
    }
   },
   "outputs": [],
   "source": [
    "# colorbar range\n",
    "vmin = -2\n",
    "vmax = 2\n",
    "\n",
    "# Create the four plots\n",
    "fig, axs = plt.subplots(2, 2, figsize=(12, 8), subplot_kw=dict(projection=ccrs.PlateCarree())) # define projections\n",
    "\n",
    "im1 = axs[0,0].imshow(\n",
    "    spring_diff,\n",
    "    cmap='coolwarm',\n",
    "    vmin=vmin,\n",
    "    vmax=vmax,\n",
    "    origin='lower',\n",
    "    extent=[8, 35, 49, 68],\n",
    "    transform=ccrs.PlateCarree()) # The data needs to be transformed for the projection \n",
    "subplot_cartopy_nice_baltic(axs[0,0])\n",
    "axs[0,0].spines['geo'].set_linewidth(1)\n",
    "axs[0,0].set_title('Spring', fontsize = '13')\n",
    "\n",
    "im2 = axs[0,1].imshow(\n",
    "    summer_diff,\n",
    "    cmap='coolwarm',\n",
    "    vmin=vmin,\n",
    "    vmax=vmax,\n",
    "    origin='lower',\n",
    "    extent=[8, 35, 49, 68],\n",
    "    transform=ccrs.PlateCarree()) # The data needs to be transformed for the projection \n",
    "subplot_cartopy_nice_baltic(axs[0,1])\n",
    "axs[0,1].spines['geo'].set_linewidth(1)\n",
    "axs[0,1].set_title('Summer', fontsize = '13')\n",
    "\n",
    "im3 = axs[1,0].imshow(\n",
    "    fall_diff,\n",
    "    cmap='coolwarm',\n",
    "    vmin=vmin,\n",
    "    vmax=vmax,\n",
    "    origin='lower',\n",
    "    extent=[8, 35, 49, 68],\n",
    "    transform=ccrs.PlateCarree()) # The data needs to be transformed for the projection \n",
    "subplot_cartopy_nice_baltic(axs[1,0])\n",
    "axs[1,0].spines['geo'].set_linewidth(1)\n",
    "axs[1,0].set_title('Fall', fontsize = '13')\n",
    "\n",
    "im4 = axs[1,1].imshow(\n",
    "    winter_diff,\n",
    "    cmap='coolwarm',\n",
    "    vmin=vmin,\n",
    "    vmax=vmax,\n",
    "    origin='lower',\n",
    "    extent=[8, 35, 49, 68],\n",
    "    transform=ccrs.PlateCarree()) # The data needs to be transformed for the projection \n",
    "subplot_cartopy_nice_baltic(axs[1,1])\n",
    "axs[1,1].spines['geo'].set_linewidth(1)\n",
    "axs[1,1].set_title('Winter', fontsize = '13')\n",
    "\n",
    "fig.suptitle('Seasonal temperature changes from model start to end, 1000y mean', fontsize=16, fontweight='bold')\n",
    "\n",
    "cbar = fig.colorbar(im4, ax=axs.ravel().tolist())\n",
    "cbar.ax.set_ylabel('Tempearture change [K]', fontsize = '13', labelpad=10)\n",
    "plt.show()"
   ]
  },
  {
   "cell_type": "code",
   "execution_count": null,
   "id": "french-belle",
   "metadata": {
    "jupyter": {
     "source_hidden": true
    }
   },
   "outputs": [],
   "source": [
    "# colorbar range\n",
    "vmin = -2\n",
    "vmax = 2\n",
    "\n",
    "# Create the four plots\n",
    "fig, axs = plt.subplots(4, 1, figsize=(5, 18), subplot_kw=dict(projection=ccrs.PlateCarree())) # define projections\n",
    "\n",
    "im1 = axs[0].imshow(\n",
    "    spring_diff,\n",
    "    cmap='coolwarm',\n",
    "    vmin=vmin,\n",
    "    vmax=vmax,\n",
    "    origin='lower',\n",
    "    extent=[8, 35, 49, 68],\n",
    "    transform=ccrs.PlateCarree()) # The data needs to be transformed for the projection \n",
    "subplot_cartopy_nice_baltic(axs[0])\n",
    "axs[0].spines['geo'].set_linewidth(1)\n",
    "axs[0].set_title('Spring', fontsize = '18')\n",
    "\n",
    "im2 = axs[1].imshow(\n",
    "    summer_diff,\n",
    "    cmap='coolwarm',\n",
    "    vmin=vmin,\n",
    "    vmax=vmax,\n",
    "    origin='lower',\n",
    "    extent=[8, 35, 49, 68],\n",
    "    transform=ccrs.PlateCarree()) # The data needs to be transformed for the projection \n",
    "subplot_cartopy_nice_baltic(axs[1])\n",
    "axs[1].spines['geo'].set_linewidth(1)\n",
    "axs[1].set_title('Summer', fontsize = '18')\n",
    "\n",
    "im3 = axs[2].imshow(\n",
    "    fall_diff,\n",
    "    cmap='coolwarm',\n",
    "    vmin=vmin,\n",
    "    vmax=vmax,\n",
    "    origin='lower',\n",
    "    extent=[8, 35, 49, 68],\n",
    "    transform=ccrs.PlateCarree()) # The data needs to be transformed for the projection \n",
    "subplot_cartopy_nice_baltic(axs[2])\n",
    "axs[2].spines['geo'].set_linewidth(1)\n",
    "axs[2].set_title('Fall', fontsize = '18')\n",
    "\n",
    "im4 = axs[3].imshow(\n",
    "    winter_diff,\n",
    "    cmap='coolwarm',\n",
    "    vmin=vmin,\n",
    "    vmax=vmax,\n",
    "    origin='lower',\n",
    "    extent=[8, 35, 49, 68],\n",
    "    transform=ccrs.PlateCarree()) # The data needs to be transformed for the projection \n",
    "subplot_cartopy_nice_baltic(axs[3])\n",
    "axs[3].spines['geo'].set_linewidth(1)\n",
    "axs[3].set_title('Winter', fontsize = '18')\n",
    "\n",
    "#fig.suptitle('Seasonal temperature changes from model start to end, 1000y mean', fontsize=16, fontweight='bold')\n",
    "\n",
    "cbar = fig.colorbar(im4, ax=axs.ravel().tolist())\n",
    "cbar.ax.tick_params(labelsize=18)\n",
    "cbar.ax.set_ylabel('Tempearture change [K]', fontsize = '18', labelpad=10)\n",
    "plt.show()"
   ]
  }
 ],
 "metadata": {
  "kernelspec": {
   "display_name": "Python 3",
   "language": "python",
   "name": "python3"
  },
  "language_info": {
   "codemirror_mode": {
    "name": "ipython",
    "version": 3
   },
   "file_extension": ".py",
   "mimetype": "text/x-python",
   "name": "python",
   "nbconvert_exporter": "python",
   "pygments_lexer": "ipython3",
   "version": "3.7.7"
  }
 },
 "nbformat": 4,
 "nbformat_minor": 5
}
